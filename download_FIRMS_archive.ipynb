{
 "cells": [
  {
   "cell_type": "markdown",
   "metadata": {},
   "source": [
    "## Downloads MODIS and VIIRS Archive Data from the NASA FIRMS Servers & Uploads Data to Google Cloud Storage (GCS) Bucket\n",
    "- Configured to run within the Google Cloud environment, such as Google Cloud Compute Engine, AI Notebook, or a Cloud Function\n",
    "- Can be modified to use with other data sources"
   ]
  },
  {
   "cell_type": "code",
   "execution_count": null,
   "metadata": {},
   "outputs": [],
   "source": [
    "#Import Required Libraries\n",
    "import requests\n",
    "from google.cloud import storage\n",
    "import os\n",
    "from urllib.parse import urlparse"
   ]
  },
  {
   "cell_type": "code",
   "execution_count": null,
   "metadata": {},
   "outputs": [],
   "source": [
    "# Google Cloud Storage Blob Upload Function\n",
    "def upload_blob(bucket_name, source_file_name, destination_blob_name):\n",
    "\n",
    "    storage_client = storage.Client()\n",
    "    bucket = storage_client.bucket(bucket_name)\n",
    "    blob = bucket.blob(destination_blob_name)\n",
    "\n",
    "    blob.upload_from_filename(source_file_name)"
   ]
  },
  {
   "cell_type": "code",
   "execution_count": null,
   "metadata": {},
   "outputs": [],
   "source": [
    "# Main Function that Calls Requests Function and Uploads Data to GCS bucket (temporarily stores file locally)\n",
    "def main(url_str, bucket_name):\n",
    "    \n",
    "    # Extract filename\n",
    "    a = urlparse(url_str)\n",
    "    filename = os.path.basename(a.path)\n",
    "    source_filename = \"./\" + filename \n",
    "\n",
    "    # Requests file from server\n",
    "    r = requests.get(url_str, allow_redirects=True)\n",
    "    open(source_filename, 'wb').write(r.content)\n",
    "\n",
    "    # Uploads file to GCS Bucket\n",
    "    upload_blob(bucket_name, source_filename, filename)\n",
    "    os.remove(source_filename)\n",
    "    \n",
    "    print(filename + \" uploaded to \" + bucket_name)"
   ]
  },
  {
   "cell_type": "markdown",
   "metadata": {},
   "source": [
    "Change bucket_name to match your GCS bucket. Change year_str to the year you want.  Modify the URL string and add new string variables to use for other data."
   ]
  },
  {
   "cell_type": "code",
   "execution_count": null,
   "metadata": {},
   "outputs": [],
   "source": [
    "bucket_name = \"your-bucketname\"\n",
    "year_str = \"2000\"\n",
    "url_str = \"https://firms.modaps.eosdis.nasa.gov/data/country/modis/\" + year_str + \"/modis_\" + year_str + \"_United_States.csv\"\n",
    "# url_str = \"https://firms.modaps.eosdis.nasa.gov/data/country/viirs-snpp/\" + year_str + \"/viirs-snpp_\" + year_str + \"_United_States.csv\"\n",
    "main(url_str,bucket_name)"
   ]
  },
  {
   "cell_type": "code",
   "execution_count": null,
   "metadata": {},
   "outputs": [],
   "source": []
  }
 ],
 "metadata": {
  "environment": {
   "name": "tf2-gpu.2-1.m58",
   "type": "gcloud",
   "uri": "gcr.io/deeplearning-platform-release/tf2-gpu.2-1:m58"
  },
  "kernelspec": {
   "display_name": "Python 3",
   "language": "python",
   "name": "python3"
  },
  "language_info": {
   "codemirror_mode": {
    "name": "ipython",
    "version": 3
   },
   "file_extension": ".py",
   "mimetype": "text/x-python",
   "name": "python",
   "nbconvert_exporter": "python",
   "pygments_lexer": "ipython3",
   "version": "3.7.8"
  }
 },
 "nbformat": 4,
 "nbformat_minor": 4
}
