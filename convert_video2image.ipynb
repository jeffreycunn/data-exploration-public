{
 "cells": [
  {
   "cell_type": "markdown",
   "id": "bac64907",
   "metadata": {},
   "source": [
    "# Convert Videos to Images with OpenCV"
   ]
  },
  {
   "cell_type": "markdown",
   "id": "bfc82902",
   "metadata": {},
   "source": [
    "## Import libraries"
   ]
  },
  {
   "cell_type": "code",
   "execution_count": null,
   "id": "457c16c4",
   "metadata": {},
   "outputs": [],
   "source": [
    "import os\n",
    "import cv2 as cv\n",
    "print(cv.__version__)"
   ]
  },
  {
   "cell_type": "markdown",
   "id": "d28890bc",
   "metadata": {},
   "source": [
    "## Set the directories for input videos and writing out the images"
   ]
  },
  {
   "cell_type": "code",
   "execution_count": null,
   "id": "c5c0cdbc",
   "metadata": {},
   "outputs": [],
   "source": [
    "video_directory = '/home/jupyter/videos/'\n",
    "image_directory = '/home/jupyter/images/'"
   ]
  },
  {
   "cell_type": "markdown",
   "id": "2a858132",
   "metadata": {},
   "source": [
    "# Read in the video files and convert to images"
   ]
  },
  {
   "cell_type": "code",
   "execution_count": null,
   "id": "11cebcce",
   "metadata": {},
   "outputs": [],
   "source": [
    "for filename in os.listdir(video_directory):\n",
    "    f = os.path.join(video_directory, filename)\n",
    "    if os.path.isfile(f):\n",
    "        print(f)\n",
    "        vidcap = cv.VideoCapture(f)\n",
    "        def getFrame(sec):\n",
    "            vidcap.set(cv.CAP_PROP_POS_MSEC,sec*1000)\n",
    "            hasFrames,image = vidcap.read()\n",
    "            if hasFrames:\n",
    "                cv.imwrite(image_directory+filename+\"_\"+str(count)+\".jpg\", image)     # save frame as JPG file\n",
    "            return hasFrames\n",
    "        sec = 0\n",
    "        frameRate = 0.5 #//it will capture image in each 0.5 second\n",
    "        count=1\n",
    "        success = getFrame(sec)\n",
    "        while success:\n",
    "            count = count + 1\n",
    "            sec = sec + frameRate\n",
    "            sec = round(sec, 2)\n",
    "            success = getFrame(sec)"
   ]
  },
  {
   "cell_type": "code",
   "execution_count": null,
   "id": "61bd3d10",
   "metadata": {},
   "outputs": [],
   "source": []
  }
 ],
 "metadata": {
  "environment": {
   "name": "tf2-gpu.2-3.m65",
   "type": "gcloud",
   "uri": "gcr.io/deeplearning-platform-release/tf2-gpu.2-3:m65"
  },
  "kernelspec": {
   "display_name": "Python 3",
   "language": "python",
   "name": "python3"
  },
  "language_info": {
   "codemirror_mode": {
    "name": "ipython",
    "version": 3
   },
   "file_extension": ".py",
   "mimetype": "text/x-python",
   "name": "python",
   "nbconvert_exporter": "python",
   "pygments_lexer": "ipython3",
   "version": "3.7.10"
  }
 },
 "nbformat": 4,
 "nbformat_minor": 5
}
